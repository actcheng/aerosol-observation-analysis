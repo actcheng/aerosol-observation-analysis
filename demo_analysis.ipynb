{
 "cells": [
  {
   "cell_type": "markdown",
   "metadata": {},
   "source": [
    "# Demo: data analysis\n",
    "\n",
    "This version handles the **AERONET AOD and INV data**. Further versions will include MODIS observations and comparisons with model results."
   ]
  },
  {
   "cell_type": "code",
   "execution_count": 1,
   "metadata": {},
   "outputs": [],
   "source": [
    "import warnings\n",
    "warnings.filterwarnings('ignore')"
   ]
  },
  {
   "cell_type": "code",
   "execution_count": 2,
   "metadata": {},
   "outputs": [],
   "source": [
    "%matplotlib inline\n",
    "%load_ext autoreload\n",
    "%autoreload 2"
   ]
  },
  {
   "cell_type": "code",
   "execution_count": 3,
   "metadata": {},
   "outputs": [],
   "source": [
    "import os\n",
    "import aerosol_obs_analysis as ana\n",
    "\n",
    "import datetime\n",
    "time_range = [datetime.date(2006,1,1),datetime.date(2006,12,31)]"
   ]
  },
  {
   "cell_type": "markdown",
   "metadata": {},
   "source": [
    "## Download the data\n",
    "\n",
    "Data files can be downloaded from the [AERONET website](https://aeronet.gsfc.nasa.gov/). This version only deals with the daily data. The all site data can be downloaded here: [AOD](https://aeronet.gsfc.nasa.gov/data_push/V3/AOD/AOD_Level20_Daily_V3.tar.gz)(~ 63 MB, 2019/12/12), [INV](https://aeronet.gsfc.nasa.gov/data_push/V3/INV/INV_Level2_Daily_V3.tar.gz)(~130 MB, 2019/12/12). You may also use the download tool on the AERONET homepage to specify the sites, dates and products. \n",
    "\n",
    "## Read data files and basic analysis\n",
    "\n",
    "### All points data\n",
    "\n",
    "Here, the data files are saved in the `data/all` directory"
   ]
  },
  {
   "cell_type": "code",
   "execution_count": 7,
   "metadata": {},
   "outputs": [
    {
     "data": {
      "text/plain": [
       "['AOD_Level20_Daily_V3.tar.gz', 'INV_Level2_Daily_V3.tar.gz']"
      ]
     },
     "execution_count": 7,
     "metadata": {},
     "output_type": "execute_result"
    }
   ],
   "source": [
    "os.listdir('data/all')"
   ]
  },
  {
   "cell_type": "markdown",
   "metadata": {},
   "source": [
    "Start analysis by creating an `aeronet` object. You can specify the workspace path with `pickle_path='XXX'`, and the time range with `time_range=[start,end]."
   ]
  },
  {
   "cell_type": "code",
   "execution_count": 4,
   "metadata": {},
   "outputs": [
    {
     "name": "stdout",
     "output_type": "stream",
     "text": [
      "AERONET data object created. Use .read_pickle() to load data from pickle, or .analysis_guide() to read raw data.\n"
     ]
    }
   ],
   "source": [
    "aeronet = ana.aeronet(time_range = time_range)"
   ]
  },
  {
   "cell_type": "markdown",
   "metadata": {},
   "source": [
    "Data can be loaded from saved pickle:"
   ]
  },
  {
   "cell_type": "code",
   "execution_count": 5,
   "metadata": {},
   "outputs": [
    {
     "name": "stdout",
     "output_type": "stream",
     "text": [
      "Loading AERONET data from pickle: COM20_20060101_20061231.pkl\n"
     ]
    }
   ],
   "source": [
    "aeronet.load_pickle(pickle_name='COM20_20060101_20061231.pkl')"
   ]
  },
  {
   "cell_type": "markdown",
   "metadata": {},
   "source": [
    "For the first time reading the all site data, the option `.analysis_guide()` is recommended. The guide is used to perform analysis from raw or half processed data. Note the instructions for entering 'YES' and 'NO'\n",
    "\n",
    "It is divided into three parts:\n",
    "    1. Basic analysis of AOD data\n",
    "    2. Basic analysis of INV data\n",
    "    3. Combine AOD and INV data into one file\n",
    "\n",
    "You may choose to save the intermediate files for later use. See appendix for details.\n",
    "\n",
    "\n",
    "Here demostrate the analysis of starting from extracting tar."
   ]
  },
  {
   "cell_type": "code",
   "execution_count": 6,
   "metadata": {},
   "outputs": [
    {
     "name": "stdout",
     "output_type": "stream",
     "text": [
      "\n",
      "##### Analysis from raw/half-processed data #####\n",
      "Load AOD data (all records) from pickle? \n",
      "Press enter for YES, other keys for NO: NO\n",
      "\n",
      "#### Load AERONET AOD all site data from raw data ####\n",
      "Enter directory of raw files? \n",
      "Press enter for default (./): ./data/all/\n",
      "Extract .tar? Type \"YES\" for yes: YES\n",
      "Name of .tar file? AOD_Level20_Daily_V3.tar.gz\n",
      "Extracting tar file: ./data/all/AOD_Level20_Daily_V3.tar.gz at ./data/all/\n",
      "Finish extracting tar file\n",
      "Path for files? \n",
      "Press enter for default (./data/all/AOD/AOD20/DAILY/): \n",
      "Loading AERONET AOD all site data from ./data/all/AOD/AOD20/DAILY/\n",
      "[==================================================] 100%\n",
      "Skim data? \n",
      "Press enter for YES, other keys for NO: \n",
      "\n",
      "Finished extracting AOD data from raw data\n",
      "Save pickle? \n",
      "Press enter for YES, other keys for NO: \n",
      "Pickle name to save? \n",
      "Press enter for default (AOD20_daily_all_sites.pkl): \n",
      "\n",
      "Saved df_aod_all as workspace/AERONET/AOD20_daily_all_sites.pkl \n",
      "************\n",
      "Load INV df (all records) from pickle? \n",
      "Press enter for YES, other keys for NO: NO\n",
      "\n",
      "#### Load AERONET INV all site data from raw data ####\n",
      "Enter directory of raw files? \n",
      "Press enter for default (./): ./data/all/\n",
      "Extract .tar? Type \"YES\" for yes: YES\n",
      "Name of .tar file? INV_Level2_Daily_V3.tar.gz\n",
      "Extracting tar file: ./data/all/INV_Level2_Daily_V3.tar.gz at ./data/all/\n",
      "Finish extracting tar file\n",
      "Path for files? \n",
      "Press enter for default (./data/all/INV/LEV20/ALL/DAILY/): \n",
      "Loading AERONET INV all site data from ./data/all/INV/LEV20/ALL/DAILY/\n",
      "[==================================================] 100%\n",
      "Skim data? \n",
      "Press enter for YES, other keys for NO: \n",
      "Volume distribution and AOD data is kept.\n",
      "\n",
      "Finished extracting INV data from raw data\n",
      "Save pickle? \n",
      "Press enter for YES, other keys for NO: \n",
      "Pickle name to save? \n",
      "Press enter for default (INV20_daily_all_sites.pkl): \n",
      "\n",
      "Saved df_inv_all as workspace/AERONET/INV20_daily_all_sites.pkl \n",
      "************\n",
      "Combine AOD and INV df? \n",
      "Press enter for YES, other keys for NO: \n",
      "Filter time range? \n",
      "Press enter for YES, other keys for NO: \n",
      "Filter site? \n",
      "Press enter for YES, other keys for NO: NO\n",
      "Save pickle? \n",
      "Press enter for YES, other keys for NO: \n",
      "Pickle name to save? \n",
      "Press enter for default (COM20_20060101_20061231.pkl): \n",
      "\n",
      "Saved COM as workspace/AERONET/COM20_20060101_20061231.pkl \n",
      "************\n"
     ]
    }
   ],
   "source": [
    "aeronet.analysis_guide()"
   ]
  },
  {
   "cell_type": "markdown",
   "metadata": {},
   "source": [
    "Alternatively, you can also load the all record data from pickle, and filter another time range or sites."
   ]
  },
  {
   "cell_type": "code",
   "execution_count": 22,
   "metadata": {},
   "outputs": [
    {
     "name": "stdout",
     "output_type": "stream",
     "text": [
      "AERONET data object created. Use .read_pickle() to load data from pickle, or .analysis_guide() to read raw data.\n",
      "\n",
      "##### Analysis from raw/half-processed data #####\n",
      "Load AOD data (all records) from pickle? \n",
      "Press enter for YES, other keys for NO: \n",
      "Pickle name? \n",
      "Press enter for default (AOD20_daily_all_sites.pkl): \n",
      "Loading AERONET AOD all site data from pickle: workspace/AERONET/AOD20_daily_all_sites.pkl\n",
      "Loaded AERONET AOD all site data from pickle: workspace/AERONET/AOD20_daily_all_sites.pkl\n",
      "************\n",
      "Load INV df (all records) from pickle? \n",
      "Press enter for YES, other keys for NO: \n",
      "Pickle name? \n",
      "Press enter for default (INV20_daily_all_sites.pkl): \n",
      "Loading AERONET INV all site data from pickle: workspace/AERONET/INV20_daily_all_sites.pkl\n",
      "Loaded AERONET INV all site data from pickle: workspace/AERONET/INV20_daily_all_sites.pkl\n",
      "************\n",
      "Combine AOD and INV df? \n",
      "Press enter for YES, other keys for NO: \n",
      "Filter time range? \n",
      "Press enter for YES, other keys for NO: \n",
      "Time range: [datetime.date(2016, 1, 1), datetime.date(2016, 12, 31)]\n",
      "Filtered records in this time range: [datetime.date(2016, 1, 1), datetime.date(2016, 12, 31)]\n",
      "Number of records: 73265\n",
      "Filter site? \n",
      "Press enter for YES, other keys for NO: \n",
      "Site name? wrong site name\n",
      "No data at the specified site.\n",
      "Site name? Cart_Site\n",
      "Data filtered: Cart_Site.\n",
      "Number of records: 110\n",
      "Save pickle? \n",
      "Press enter for YES, other keys for NO: \n",
      "Pickle name to save? \n",
      "Press enter for default (COM20_20160101_20161231_Cart_Site.pkl): \n",
      "\n",
      "Saved COM as workspace/AERONET/COM20_20160101_20161231_Cart_Site.pkl \n",
      "************\n"
     ]
    }
   ],
   "source": [
    "time_range2 = [datetime.date(2016,1,1),datetime.date(2016,12,31)]\n",
    "aeronet2 = ana.aeronet(time_range = time_range2)\n",
    "\n",
    "aeronet2.analysis_guide()"
   ]
  },
  {
   "cell_type": "markdown",
   "metadata": {},
   "source": [
    "## Data\n",
    "\n",
    "The data are stored in `aeronet.df`"
   ]
  },
  {
   "cell_type": "code",
   "execution_count": 47,
   "metadata": {},
   "outputs": [
    {
     "data": {
      "text/html": [
       "<div>\n",
       "<style scoped>\n",
       "    .dataframe tbody tr th:only-of-type {\n",
       "        vertical-align: middle;\n",
       "    }\n",
       "\n",
       "    .dataframe tbody tr th {\n",
       "        vertical-align: top;\n",
       "    }\n",
       "\n",
       "    .dataframe thead th {\n",
       "        text-align: right;\n",
       "    }\n",
       "</style>\n",
       "<table border=\"1\" class=\"dataframe\">\n",
       "  <thead>\n",
       "    <tr style=\"text-align: right;\">\n",
       "      <th></th>\n",
       "      <th>AERONET_Site_Name</th>\n",
       "      <th>Date(dd:mm:yyyy)</th>\n",
       "      <th>Day_of_Year</th>\n",
       "      <th>Site_Latitude(Degrees)</th>\n",
       "      <th>Site_Longitude(Degrees)</th>\n",
       "      <th>AOD_500nm</th>\n",
       "      <th>440-870_Angstrom_Exponent</th>\n",
       "      <th>REff-C</th>\n",
       "      <th>REff-F</th>\n",
       "      <th>REff-T</th>\n",
       "      <th>...</th>\n",
       "      <th>Asymmetry_Factor-Total[440nm]</th>\n",
       "      <th>Asymmetry_Factor-Total[675nm]</th>\n",
       "      <th>Asymmetry_Factor-Total[870nm]</th>\n",
       "      <th>Absorption_AOD[440nm]</th>\n",
       "      <th>Absorption_AOD[675nm]</th>\n",
       "      <th>Absorption_AOD[870nm]</th>\n",
       "      <th>Single_Scattering_Albedo[440nm]</th>\n",
       "      <th>Single_Scattering_Albedo[675nm]</th>\n",
       "      <th>Single_Scattering_Albedo[870nm]</th>\n",
       "      <th>dV/dlnr</th>\n",
       "    </tr>\n",
       "  </thead>\n",
       "  <tbody>\n",
       "    <tr>\n",
       "      <th>1720</th>\n",
       "      <td>Abu_Al_Bukhoosh</td>\n",
       "      <td>2006-11-21</td>\n",
       "      <td>325</td>\n",
       "      <td>25.495</td>\n",
       "      <td>53.145833</td>\n",
       "      <td>NaN</td>\n",
       "      <td>0.611790</td>\n",
       "      <td>NaN</td>\n",
       "      <td>NaN</td>\n",
       "      <td>NaN</td>\n",
       "      <td>...</td>\n",
       "      <td>NaN</td>\n",
       "      <td>NaN</td>\n",
       "      <td>NaN</td>\n",
       "      <td>NaN</td>\n",
       "      <td>NaN</td>\n",
       "      <td>NaN</td>\n",
       "      <td>NaN</td>\n",
       "      <td>NaN</td>\n",
       "      <td>NaN</td>\n",
       "      <td>NaN</td>\n",
       "    </tr>\n",
       "    <tr>\n",
       "      <th>1721</th>\n",
       "      <td>Abu_Al_Bukhoosh</td>\n",
       "      <td>2006-11-22</td>\n",
       "      <td>326</td>\n",
       "      <td>25.495</td>\n",
       "      <td>53.145833</td>\n",
       "      <td>NaN</td>\n",
       "      <td>1.124698</td>\n",
       "      <td>NaN</td>\n",
       "      <td>NaN</td>\n",
       "      <td>NaN</td>\n",
       "      <td>...</td>\n",
       "      <td>NaN</td>\n",
       "      <td>NaN</td>\n",
       "      <td>NaN</td>\n",
       "      <td>NaN</td>\n",
       "      <td>NaN</td>\n",
       "      <td>NaN</td>\n",
       "      <td>NaN</td>\n",
       "      <td>NaN</td>\n",
       "      <td>NaN</td>\n",
       "      <td>NaN</td>\n",
       "    </tr>\n",
       "    <tr>\n",
       "      <th>1722</th>\n",
       "      <td>Abu_Al_Bukhoosh</td>\n",
       "      <td>2006-11-23</td>\n",
       "      <td>327</td>\n",
       "      <td>25.495</td>\n",
       "      <td>53.145833</td>\n",
       "      <td>NaN</td>\n",
       "      <td>1.326807</td>\n",
       "      <td>NaN</td>\n",
       "      <td>NaN</td>\n",
       "      <td>NaN</td>\n",
       "      <td>...</td>\n",
       "      <td>NaN</td>\n",
       "      <td>NaN</td>\n",
       "      <td>NaN</td>\n",
       "      <td>NaN</td>\n",
       "      <td>NaN</td>\n",
       "      <td>NaN</td>\n",
       "      <td>NaN</td>\n",
       "      <td>NaN</td>\n",
       "      <td>NaN</td>\n",
       "      <td>NaN</td>\n",
       "    </tr>\n",
       "    <tr>\n",
       "      <th>1723</th>\n",
       "      <td>Abu_Al_Bukhoosh</td>\n",
       "      <td>2006-11-24</td>\n",
       "      <td>328</td>\n",
       "      <td>25.495</td>\n",
       "      <td>53.145833</td>\n",
       "      <td>NaN</td>\n",
       "      <td>1.202353</td>\n",
       "      <td>NaN</td>\n",
       "      <td>NaN</td>\n",
       "      <td>NaN</td>\n",
       "      <td>...</td>\n",
       "      <td>NaN</td>\n",
       "      <td>NaN</td>\n",
       "      <td>NaN</td>\n",
       "      <td>NaN</td>\n",
       "      <td>NaN</td>\n",
       "      <td>NaN</td>\n",
       "      <td>NaN</td>\n",
       "      <td>NaN</td>\n",
       "      <td>NaN</td>\n",
       "      <td>NaN</td>\n",
       "    </tr>\n",
       "    <tr>\n",
       "      <th>1724</th>\n",
       "      <td>Abu_Al_Bukhoosh</td>\n",
       "      <td>2006-11-25</td>\n",
       "      <td>329</td>\n",
       "      <td>25.495</td>\n",
       "      <td>53.145833</td>\n",
       "      <td>NaN</td>\n",
       "      <td>1.383928</td>\n",
       "      <td>NaN</td>\n",
       "      <td>NaN</td>\n",
       "      <td>NaN</td>\n",
       "      <td>...</td>\n",
       "      <td>NaN</td>\n",
       "      <td>NaN</td>\n",
       "      <td>NaN</td>\n",
       "      <td>NaN</td>\n",
       "      <td>NaN</td>\n",
       "      <td>NaN</td>\n",
       "      <td>NaN</td>\n",
       "      <td>NaN</td>\n",
       "      <td>NaN</td>\n",
       "      <td>NaN</td>\n",
       "    </tr>\n",
       "  </tbody>\n",
       "</table>\n",
       "<p>5 rows × 57 columns</p>\n",
       "</div>"
      ],
      "text/plain": [
       "     AERONET_Site_Name Date(dd:mm:yyyy)  Day_of_Year  Site_Latitude(Degrees)  \\\n",
       "1720   Abu_Al_Bukhoosh       2006-11-21          325                  25.495   \n",
       "1721   Abu_Al_Bukhoosh       2006-11-22          326                  25.495   \n",
       "1722   Abu_Al_Bukhoosh       2006-11-23          327                  25.495   \n",
       "1723   Abu_Al_Bukhoosh       2006-11-24          328                  25.495   \n",
       "1724   Abu_Al_Bukhoosh       2006-11-25          329                  25.495   \n",
       "\n",
       "      Site_Longitude(Degrees)  AOD_500nm  440-870_Angstrom_Exponent  REff-C  \\\n",
       "1720                53.145833        NaN                   0.611790     NaN   \n",
       "1721                53.145833        NaN                   1.124698     NaN   \n",
       "1722                53.145833        NaN                   1.326807     NaN   \n",
       "1723                53.145833        NaN                   1.202353     NaN   \n",
       "1724                53.145833        NaN                   1.383928     NaN   \n",
       "\n",
       "      REff-F  REff-T  ...  Asymmetry_Factor-Total[440nm]  \\\n",
       "1720     NaN     NaN  ...                            NaN   \n",
       "1721     NaN     NaN  ...                            NaN   \n",
       "1722     NaN     NaN  ...                            NaN   \n",
       "1723     NaN     NaN  ...                            NaN   \n",
       "1724     NaN     NaN  ...                            NaN   \n",
       "\n",
       "      Asymmetry_Factor-Total[675nm]  Asymmetry_Factor-Total[870nm]  \\\n",
       "1720                            NaN                            NaN   \n",
       "1721                            NaN                            NaN   \n",
       "1722                            NaN                            NaN   \n",
       "1723                            NaN                            NaN   \n",
       "1724                            NaN                            NaN   \n",
       "\n",
       "      Absorption_AOD[440nm]  Absorption_AOD[675nm]  Absorption_AOD[870nm]  \\\n",
       "1720                    NaN                    NaN                    NaN   \n",
       "1721                    NaN                    NaN                    NaN   \n",
       "1722                    NaN                    NaN                    NaN   \n",
       "1723                    NaN                    NaN                    NaN   \n",
       "1724                    NaN                    NaN                    NaN   \n",
       "\n",
       "      Single_Scattering_Albedo[440nm]  Single_Scattering_Albedo[675nm]  \\\n",
       "1720                              NaN                              NaN   \n",
       "1721                              NaN                              NaN   \n",
       "1722                              NaN                              NaN   \n",
       "1723                              NaN                              NaN   \n",
       "1724                              NaN                              NaN   \n",
       "\n",
       "      Single_Scattering_Albedo[870nm]  dV/dlnr  \n",
       "1720                              NaN      NaN  \n",
       "1721                              NaN      NaN  \n",
       "1722                              NaN      NaN  \n",
       "1723                              NaN      NaN  \n",
       "1724                              NaN      NaN  \n",
       "\n",
       "[5 rows x 57 columns]"
      ]
     },
     "execution_count": 47,
     "metadata": {},
     "output_type": "execute_result"
    }
   ],
   "source": [
    "aeronet.df.head()"
   ]
  },
  {
   "cell_type": "code",
   "execution_count": 49,
   "metadata": {},
   "outputs": [
    {
     "data": {
      "text/plain": [
       "Index(['AERONET_Site_Name', 'Date(dd:mm:yyyy)', 'Day_of_Year',\n",
       "       'Site_Latitude(Degrees)', 'Site_Longitude(Degrees)', 'AOD_500nm',\n",
       "       '440-870_Angstrom_Exponent', 'REff-C', 'REff-F', 'REff-T', 'Bin 1',\n",
       "       'Bin 2', 'Bin 3', 'Bin 4', 'Bin 5', 'Bin 6', 'Bin 7', 'Bin 8', 'Bin 9',\n",
       "       'Bin 10', 'Bin 11', 'Bin 12', 'Bin 13', 'Bin 14', 'Bin 15', 'Bin 16',\n",
       "       'Bin 17', 'Bin 18', 'Bin 19', 'Bin 20', 'Bin 21', 'Bin 22',\n",
       "       'AOD_Extinction-Coarse[440nm]', 'AOD_Extinction-Coarse[675nm]',\n",
       "       'AOD_Extinction-Coarse[870nm]', 'AOD_Extinction-Fine[440nm]',\n",
       "       'AOD_Extinction-Fine[675nm]', 'AOD_Extinction-Fine[870nm]',\n",
       "       'AOD_Extinction-Total[440nm]', 'AOD_Extinction-Total[675nm]',\n",
       "       'AOD_Extinction-Total[870nm]', 'Asymmetry_Factor-Coarse[440nm]',\n",
       "       'Asymmetry_Factor-Coarse[675nm]', 'Asymmetry_Factor-Coarse[870nm]',\n",
       "       'Asymmetry_Factor-Fine[440nm]', 'Asymmetry_Factor-Fine[675nm]',\n",
       "       'Asymmetry_Factor-Fine[870nm]', 'Asymmetry_Factor-Total[440nm]',\n",
       "       'Asymmetry_Factor-Total[675nm]', 'Asymmetry_Factor-Total[870nm]',\n",
       "       'Absorption_AOD[440nm]', 'Absorption_AOD[675nm]',\n",
       "       'Absorption_AOD[870nm]', 'Single_Scattering_Albedo[440nm]',\n",
       "       'Single_Scattering_Albedo[675nm]', 'Single_Scattering_Albedo[870nm]',\n",
       "       'dV/dlnr'],\n",
       "      dtype='object')"
      ]
     },
     "execution_count": 49,
     "metadata": {},
     "output_type": "execute_result"
    }
   ],
   "source": [
    "aeronet.df.columns"
   ]
  },
  {
   "cell_type": "markdown",
   "metadata": {},
   "source": [
    "## Calculating averages\n",
    "\n",
    "If `min_rec` is specified, the sites with less than the given value of records will not be included. The days for calculating the average is also stored."
   ]
  },
  {
   "cell_type": "code",
   "execution_count": 6,
   "metadata": {},
   "outputs": [
    {
     "data": {
      "text/html": [
       "<div>\n",
       "<style scoped>\n",
       "    .dataframe tbody tr th:only-of-type {\n",
       "        vertical-align: middle;\n",
       "    }\n",
       "\n",
       "    .dataframe tbody tr th {\n",
       "        vertical-align: top;\n",
       "    }\n",
       "\n",
       "    .dataframe thead th {\n",
       "        text-align: right;\n",
       "    }\n",
       "</style>\n",
       "<table border=\"1\" class=\"dataframe\">\n",
       "  <thead>\n",
       "    <tr style=\"text-align: right;\">\n",
       "      <th></th>\n",
       "      <th>Day_of_Year</th>\n",
       "      <th>Site_Latitude(Degrees)</th>\n",
       "      <th>Site_Longitude(Degrees)</th>\n",
       "      <th>AOD_500nm</th>\n",
       "      <th>Record_number</th>\n",
       "    </tr>\n",
       "    <tr>\n",
       "      <th>AERONET_Site_Name</th>\n",
       "      <th></th>\n",
       "      <th></th>\n",
       "      <th></th>\n",
       "      <th></th>\n",
       "      <th></th>\n",
       "    </tr>\n",
       "  </thead>\n",
       "  <tbody>\n",
       "    <tr>\n",
       "      <th>Adelaide_Site_7</th>\n",
       "      <td>[94, 95, 97, 98, 99, 101, 102, 103, 105, 106, ...</td>\n",
       "      <td>-34.725067</td>\n",
       "      <td>138.656483</td>\n",
       "      <td>0.064155</td>\n",
       "      <td>194</td>\n",
       "    </tr>\n",
       "    <tr>\n",
       "      <th>Al_Ain</th>\n",
       "      <td>[229, 235, 236, 237, 238, 239, 240, 241, 242, ...</td>\n",
       "      <td>24.242167</td>\n",
       "      <td>55.705167</td>\n",
       "      <td>0.331605</td>\n",
       "      <td>31</td>\n",
       "    </tr>\n",
       "    <tr>\n",
       "      <th>Alta_Floresta</th>\n",
       "      <td>[3, 9, 13, 17, 18, 19, 20, 21, 23, 25, 27, 28,...</td>\n",
       "      <td>-9.871339</td>\n",
       "      <td>-56.104453</td>\n",
       "      <td>0.342905</td>\n",
       "      <td>174</td>\n",
       "    </tr>\n",
       "    <tr>\n",
       "      <th>Ames</th>\n",
       "      <td>[4, 9, 10, 11, 12, 13, 14, 15, 18, 23, 24, 26,...</td>\n",
       "      <td>42.021361</td>\n",
       "      <td>-93.774778</td>\n",
       "      <td>0.184697</td>\n",
       "      <td>185</td>\n",
       "    </tr>\n",
       "    <tr>\n",
       "      <th>Andenes</th>\n",
       "      <td>[188, 192, 209, 210, 211, 213, 217, 224, 225, ...</td>\n",
       "      <td>69.278333</td>\n",
       "      <td>16.008611</td>\n",
       "      <td>0.099436</td>\n",
       "      <td>36</td>\n",
       "    </tr>\n",
       "  </tbody>\n",
       "</table>\n",
       "</div>"
      ],
      "text/plain": [
       "                                                         Day_of_Year  \\\n",
       "AERONET_Site_Name                                                      \n",
       "Adelaide_Site_7    [94, 95, 97, 98, 99, 101, 102, 103, 105, 106, ...   \n",
       "Al_Ain             [229, 235, 236, 237, 238, 239, 240, 241, 242, ...   \n",
       "Alta_Floresta      [3, 9, 13, 17, 18, 19, 20, 21, 23, 25, 27, 28,...   \n",
       "Ames               [4, 9, 10, 11, 12, 13, 14, 15, 18, 23, 24, 26,...   \n",
       "Andenes            [188, 192, 209, 210, 211, 213, 217, 224, 225, ...   \n",
       "\n",
       "                   Site_Latitude(Degrees)  Site_Longitude(Degrees)  AOD_500nm  \\\n",
       "AERONET_Site_Name                                                               \n",
       "Adelaide_Site_7                -34.725067               138.656483   0.064155   \n",
       "Al_Ain                          24.242167                55.705167   0.331605   \n",
       "Alta_Floresta                   -9.871339               -56.104453   0.342905   \n",
       "Ames                            42.021361               -93.774778   0.184697   \n",
       "Andenes                         69.278333                16.008611   0.099436   \n",
       "\n",
       "                   Record_number  \n",
       "AERONET_Site_Name                 \n",
       "Adelaide_Site_7              194  \n",
       "Al_Ain                        31  \n",
       "Alta_Floresta                174  \n",
       "Ames                         185  \n",
       "Andenes                       36  "
      ]
     },
     "execution_count": 6,
     "metadata": {},
     "output_type": "execute_result"
    }
   ],
   "source": [
    "avg_aod = aeronet.cal_average(columns=['AOD_500nm'],min_rec=30)\n",
    "avg_aod.head()"
   ]
  },
  {
   "cell_type": "markdown",
   "metadata": {},
   "source": [
    "## Searching sites"
   ]
  },
  {
   "cell_type": "code",
   "execution_count": 24,
   "metadata": {},
   "outputs": [
    {
     "data": {
      "text/plain": [
       "['Banizoumbou',\n",
       " 'Djougou',\n",
       " 'Ilorin',\n",
       " 'Niamey',\n",
       " 'Tamanrasset_INM',\n",
       " 'Tamanrasset_TMP']"
      ]
     },
     "execution_count": 24,
     "metadata": {},
     "output_type": "execute_result"
    }
   ],
   "source": [
    "aeronet.select_sites(lat=[0,30],lon=[0,10])"
   ]
  },
  {
   "cell_type": "markdown",
   "metadata": {},
   "source": [
    "### Appendix: Flow of questions in analysis guide\n",
    "\n",
    "**1. Basic analysis of AOD data**\n",
    "\n",
    "Q1. Load AOD data (all records) from pickle? \n",
    "e.g. Yes if you have saved a pickle for all record\n",
    "\n",
    "    No -> Q2       Yes -> part 2\n",
    "\n",
    "Q2. Directory of raw files?\n",
    "\n",
    "Q3. Extract .tar?\n",
    "\n",
    "    Yes -> Q3      No -> Q5\n",
    "    \n",
    "Q4. Name of .tar file?\n",
    "\n",
    "Q5. Path for files? \n",
    "\n",
    "Q6. Skim data? (Keeping only `AOD_500nm` and `440-870_Angstrom_Exponent` data)\n",
    "\n",
    "    Yes -> Q7      No -> Q7\n",
    "\n",
    "Q7. Save pickle? \n",
    "\n",
    "    Yes -> Q8      No -> Q9\n",
    "\n",
    "Q8. Pickle name to save? \n",
    "\n",
    "**2. Basic analysis of INV data**\n",
    "\n",
    "Similar to part 1, but `skim_data=True` keeps only the size distribution.\n",
    "\n",
    "**3. Combine AOD and INV data into one file**\n",
    "\n",
    "Q9. Combine AOD and INV df? \n",
    "\n",
    "    Yes -> Q10     No -> exit\n",
    "\n",
    "Q10. Filter time range? (Time range is specified at object initialization)\n",
    "    \n",
    "Q11. Filter site?\n",
    "\n",
    "    Yes -> Q12     No -> Q13\n",
    "    \n",
    "Q12. Site name?    \n",
    "\n",
    "Q13. Save pickle? \n",
    "\n",
    "    Yes -> Q14      No -> exit\n",
    "\n",
    "Q14. Pickle name to save? "
   ]
  }
 ],
 "metadata": {
  "kernelspec": {
   "display_name": "aeronet_env",
   "language": "python",
   "name": "aeronet_env"
  },
  "language_info": {
   "codemirror_mode": {
    "name": "ipython",
    "version": 3
   },
   "file_extension": ".py",
   "mimetype": "text/x-python",
   "name": "python",
   "nbconvert_exporter": "python",
   "pygments_lexer": "ipython3",
   "version": "3.6.4"
  }
 },
 "nbformat": 4,
 "nbformat_minor": 2
}
